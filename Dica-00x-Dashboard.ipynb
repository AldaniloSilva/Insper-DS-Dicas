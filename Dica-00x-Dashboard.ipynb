{
 "cells": [
  {
   "cell_type": "markdown",
   "metadata": {},
   "source": [
    "Dashboard"
   ]
  },
  {
   "cell_type": "markdown",
   "metadata": {},
   "source": [
    "Execute estes dois comandos no prompt (linha de comando) antes de carregar o Jupyter notebook:\n",
    "\n",
    "``\n",
    "pip install jupyter_dashboards\n",
    "jupyter dashboards quick-setup --sys-prefix\n",
    "``"
   ]
  },
  {
   "cell_type": "markdown",
   "metadata": {},
   "source": [
    "Depois da instalação com sucesso:\n",
    "\n",
    "``jupyter notebook``\n",
    "\n",
    "Você vai notar no menu os botões do __Dashboard View__.\n",
    "\n",
    "Mais detalhes em:\n",
    "\n",
    "- https://github.com/jupyter-attic/dashboards\n",
    "- https://pypi.org/project/jupyter_dashboards/\n",
    "- https://github.com/jupyter-attic/dashboards"
   ]
  }
 ],
 "metadata": {
  "kernelspec": {
   "display_name": "Python 3",
   "language": "python",
   "name": "python3"
  },
  "language_info": {
   "codemirror_mode": {
    "name": "ipython",
    "version": 3
   },
   "file_extension": ".py",
   "mimetype": "text/x-python",
   "name": "python",
   "nbconvert_exporter": "python",
   "pygments_lexer": "ipython3",
   "version": "3.6.1"
  }
 },
 "nbformat": 4,
 "nbformat_minor": 2
}
