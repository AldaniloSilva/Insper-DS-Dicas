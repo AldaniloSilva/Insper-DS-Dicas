{
 "cells": [
  {
   "cell_type": "markdown",
   "metadata": {},
   "source": [
    "## Algoritmo"
   ]
  },
  {
   "cell_type": "markdown",
   "metadata": {},
   "source": [
    "### Criar uma função para ordenar números em uma lista (vetor)"
   ]
  },
  {
   "cell_type": "markdown",
   "metadata": {},
   "source": [
    "### Booblesort"
   ]
  },
  {
   "cell_type": "markdown",
   "metadata": {},
   "source": [
    "### Quicksort"
   ]
  },
  {
   "cell_type": "code",
   "execution_count": 25,
   "metadata": {},
   "outputs": [],
   "source": [
    "def quicksort(vector):\n",
    "    if len(vector) <= 1:\n",
    "        return vector\n",
    "    pivot = vector[len(vector) // 2]\n",
    "    left = [x for x in vector if x < pivot]\n",
    "    middle = [x for x in vector if x == pivot]\n",
    "    right = [x for x in vector if x > pivot]\n",
    "    return quicksort(left) + middle + quicksort(right)"
   ]
  },
  {
   "cell_type": "code",
   "execution_count": 27,
   "metadata": {},
   "outputs": [
    {
     "data": {
      "text/plain": [
       "[0, 1, 1, 3, 10, 100, 234, 345, 556, 838]"
      ]
     },
     "execution_count": 27,
     "metadata": {},
     "output_type": "execute_result"
    }
   ],
   "source": [
    "quicksort([10,100,1,234,556,1,345,0,838,3])"
   ]
  },
  {
   "cell_type": "code",
   "execution_count": 28,
   "metadata": {},
   "outputs": [],
   "source": [
    "import random"
   ]
  },
  {
   "cell_type": "code",
   "execution_count": 35,
   "metadata": {},
   "outputs": [
    {
     "data": {
      "text/plain": [
       "[0.0,\n",
       " 13.635389261291397,\n",
       " 46.474548180102325,\n",
       " 77.05650246051381,\n",
       " 81.82204639098232,\n",
       " 130.71765769731144,\n",
       " 212.38329887097484,\n",
       " 226.83594321089382,\n",
       " 229.7242761034165,\n",
       " 252.71034781368797,\n",
       " 298.2475934225973,\n",
       " 323.1916317020142,\n",
       " 326.2105577408944,\n",
       " 401.5494708139627,\n",
       " 451.97334797698574,\n",
       " 483.0586325667606,\n",
       " 553.45366599818,\n",
       " 958.0914476904896,\n",
       " 1037.7966560029402,\n",
       " 1500.417673411937]"
      ]
     },
     "execution_count": 35,
     "metadata": {},
     "output_type": "execute_result"
    }
   ],
   "source": [
    "quicksort([x*random.random()*100 for x in range(20)])"
   ]
  },
  {
   "cell_type": "markdown",
   "metadata": {},
   "source": [
    "### Criar uma função para verificar se um número inteiro é ou não primo"
   ]
  },
  {
   "cell_type": "markdown",
   "metadata": {},
   "source": [
    "### Prime"
   ]
  }
 ],
 "metadata": {
  "kernelspec": {
   "display_name": "Python 3",
   "language": "python",
   "name": "python3"
  },
  "language_info": {
   "codemirror_mode": {
    "name": "ipython",
    "version": 3
   },
   "file_extension": ".py",
   "mimetype": "text/x-python",
   "name": "python",
   "nbconvert_exporter": "python",
   "pygments_lexer": "ipython3",
   "version": "3.6.8"
  }
 },
 "nbformat": 4,
 "nbformat_minor": 2
}
